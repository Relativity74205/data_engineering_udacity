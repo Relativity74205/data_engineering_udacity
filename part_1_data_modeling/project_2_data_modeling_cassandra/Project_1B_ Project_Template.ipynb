{
 "cells": [
  {
   "cell_type": "markdown",
   "metadata": {
    "editable": true
   },
   "source": [
    "# Part I. ETL Pipeline for Pre-Processing the Files"
   ]
  },
  {
   "cell_type": "markdown",
   "metadata": {
    "editable": true
   },
   "source": [
    "## PLEASE RUN THE FOLLOWING CODE FOR PRE-PROCESSING THE FILES"
   ]
  },
  {
   "cell_type": "markdown",
   "metadata": {
    "editable": true
   },
   "source": [
    "#### Import Python packages "
   ]
  },
  {
   "cell_type": "code",
   "execution_count": 1,
   "metadata": {
    "editable": true
   },
   "outputs": [],
   "source": [
    "# Import Python packages\n",
    "from typing import Dict\n",
    "import json\n",
    "import csv\n",
    "import re\n",
    "import os\n",
    "import glob\n",
    "\n",
    "import cassandra\n",
    "import pandas as pd\n",
    "import numpy as np"
   ]
  },
  {
   "cell_type": "markdown",
   "metadata": {
    "editable": true
   },
   "source": [
    "#### Creating list of filepaths to process original event csv data files"
   ]
  },
  {
   "cell_type": "code",
   "execution_count": 2,
   "metadata": {
    "editable": true
   },
   "outputs": [
    {
     "name": "stdout",
     "output_type": "stream",
     "text": [
      "/home/workspace\n"
     ]
    }
   ],
   "source": [
    "# checking your current working directory\n",
    "print(os.getcwd())\n",
    "\n",
    "# Get your current folder and subfolder event data\n",
    "filepath = os.getcwd() + '/event_data'\n",
    "\n",
    "# Create a for loop to create a list of files and collect each filepath\n",
    "for root, dirs, files in os.walk(filepath):\n",
    "    \n",
    "# join the file path and roots with the subdirectories using glob\n",
    "    file_path_list = glob.glob(os.path.join(root,'*'))\n",
    "    #print(file_path_list)"
   ]
  },
  {
   "cell_type": "markdown",
   "metadata": {
    "editable": true
   },
   "source": [
    "#### Processing the files to create the data file csv that will be used for Apache Casssandra tables"
   ]
  },
  {
   "cell_type": "code",
   "execution_count": 3,
   "metadata": {
    "editable": true
   },
   "outputs": [],
   "source": [
    "# initiating an empty list of rows that will be generated from each file\n",
    "full_data_rows_list = [] \n",
    "    \n",
    "# for every filepath in the file path list \n",
    "for f in file_path_list:\n",
    "\n",
    "# reading csv file \n",
    "    with open(f, 'r', encoding = 'utf8', newline='') as csvfile: \n",
    "        # creating a csv reader object \n",
    "        csvreader = csv.reader(csvfile) \n",
    "        next(csvreader)\n",
    "        \n",
    " # extracting each data row one by one and append it        \n",
    "        for line in csvreader:\n",
    "            #print(line)\n",
    "            full_data_rows_list.append(line) \n",
    "            \n",
    "# uncomment the code below if you would like to get total number of rows \n",
    "#print(len(full_data_rows_list))\n",
    "# uncomment the code below if you would like to check to see what the list of event data rows will look like\n",
    "#print(full_data_rows_list)\n",
    "\n",
    "# creating a smaller event data csv file called event_datafile_full csv that will be used to insert data into the \\\n",
    "# Apache Cassandra tables\n",
    "csv.register_dialect('myDialect', quoting=csv.QUOTE_ALL, skipinitialspace=True)\n",
    "\n",
    "with open('event_datafile_new.csv', 'w', encoding = 'utf8', newline='') as f:\n",
    "    writer = csv.writer(f, dialect='myDialect')\n",
    "    writer.writerow(['artist','firstName','gender','itemInSession','lastName','length',\\\n",
    "                'level','location','sessionId','song','userId'])\n",
    "    for row in full_data_rows_list:\n",
    "        if (row[0] == ''):\n",
    "            continue\n",
    "        writer.writerow((row[0], row[2], row[3], row[4], row[5], row[6], row[7], row[8], row[12], row[13], row[16]))\n"
   ]
  },
  {
   "cell_type": "code",
   "execution_count": 4,
   "metadata": {
    "editable": true
   },
   "outputs": [
    {
     "name": "stdout",
     "output_type": "stream",
     "text": [
      "6821\n"
     ]
    }
   ],
   "source": [
    "# check the number of rows in your csv file\n",
    "with open('event_datafile_new.csv', 'r', encoding = 'utf8') as f:\n",
    "    print(sum(1 for line in f))"
   ]
  },
  {
   "cell_type": "markdown",
   "metadata": {
    "editable": true
   },
   "source": [
    "# Part II. Complete the Apache Cassandra coding portion of your project. \n",
    "\n",
    "## Now you are ready to work with the CSV file titled <font color=red>event_datafile_new.csv</font>, located within the Workspace directory.  The event_datafile_new.csv contains the following columns: \n",
    "- artist \n",
    "- firstName of user\n",
    "- gender of user\n",
    "- item number in session\n",
    "- last name of user\n",
    "- length of the song\n",
    "- level (paid or free song)\n",
    "- location of the user\n",
    "- sessionId\n",
    "- song title\n",
    "- userId\n",
    "\n",
    "The image below is a screenshot of what the denormalized data should appear like in the <font color=red>**event_datafile_new.csv**</font> after the code above is run:<br>\n",
    "\n",
    "<img src=\"images/image_event_datafile_new.jpg\">"
   ]
  },
  {
   "cell_type": "markdown",
   "metadata": {
    "editable": true
   },
   "source": [
    "## Begin writing your Apache Cassandra code in the cells below"
   ]
  },
  {
   "cell_type": "markdown",
   "metadata": {
    "editable": true
   },
   "source": [
    "#### Creating a Cluster"
   ]
  },
  {
   "cell_type": "code",
   "execution_count": 5,
   "metadata": {
    "editable": true
   },
   "outputs": [],
   "source": [
    "# This should make a connection to a Cassandra instance your local machine \n",
    "# (127.0.0.1)\n",
    "\n",
    "from cassandra.cluster import Cluster\n",
    "cluster = Cluster()\n",
    "\n",
    "# To establish connection and begin executing queries, need a session\n",
    "session = cluster.connect()"
   ]
  },
  {
   "cell_type": "code",
   "execution_count": 6,
   "metadata": {
    "editable": true
   },
   "outputs": [],
   "source": [
    "# function to execute queries to cassandra\n",
    "def execute_query(query: str, params: Dict = None):\n",
    "    \"\"\"Wrapper function around cassandra queries.\n",
    "    \n",
    "    If params Dict is passed the query is executed with the params datastructure.\n",
    "    If any exception occurs, the exception is printed. The database response is returned.\n",
    "    \"\"\"\n",
    "    try:\n",
    "        if params:\n",
    "            return session.execute(query, params)\n",
    "        else:\n",
    "            return session.execute(query)\n",
    "    except Exception as e:\n",
    "        print(e)"
   ]
  },
  {
   "cell_type": "markdown",
   "metadata": {
    "editable": true
   },
   "source": [
    "#### Create Keyspace"
   ]
  },
  {
   "cell_type": "code",
   "execution_count": 7,
   "metadata": {
    "editable": true
   },
   "outputs": [
    {
     "data": {
      "text/plain": [
       "<cassandra.cluster.ResultSet at 0x7f7503754a90>"
      ]
     },
     "execution_count": 7,
     "metadata": {},
     "output_type": "execute_result"
    }
   ],
   "source": [
    "query = \"\"\"\n",
    "    CREATE KEYSPACE IF NOT EXISTS udacity_course \n",
    "    WITH REPLICATION = {'class': 'SimpleStrategy', 'replication_factor': 1}\n",
    "\"\"\"\n",
    "\n",
    "execute_query(query)"
   ]
  },
  {
   "cell_type": "markdown",
   "metadata": {
    "editable": true
   },
   "source": [
    "#### Set Keyspace"
   ]
  },
  {
   "cell_type": "code",
   "execution_count": 8,
   "metadata": {
    "editable": true
   },
   "outputs": [],
   "source": [
    "try:\n",
    "    session.set_keyspace('udacity_course')\n",
    "except Exception as e:\n",
    "    print(e)"
   ]
  },
  {
   "cell_type": "markdown",
   "metadata": {
    "editable": true
   },
   "source": [
    "### Now we need to create tables to run the following queries. Remember, with Apache Cassandra you model the database tables on the queries you want to run."
   ]
  },
  {
   "cell_type": "markdown",
   "metadata": {
    "editable": true
   },
   "source": [
    "## Create queries to ask the following three questions of the data\n",
    "\n",
    "### 1. Give me the artist, song title and song's length in the music app history that was heard during  sessionId = 338, and itemInSession  = 4\n",
    "\n",
    "\n",
    "### 2. Give me only the following: name of artist, song (sorted by itemInSession) and user (first and last name) for userid = 10, sessionid = 182\n",
    "    \n",
    "\n",
    "### 3. Give me every user name (first and last) in my music app history who listened to the song 'All Hands Against His Own'\n",
    "\n",
    "\n"
   ]
  },
  {
   "cell_type": "markdown",
   "metadata": {
    "editable": true
   },
   "source": [
    "# Question 1:\n",
    "### Give me the artist, song title and song's length in the music app history that was heard during sessionId = 338, and itemInSession = 4\n",
    "\n",
    "- The primary key of the table consists of the sessionId and the itemInSession as the two columns are needed for filtering, also the combination of the two columns is unique.\n",
    "- The sessionId is used as partition key and itemInSession as clustering key.\n",
    "- artist, song and length were added to the table as the values are asked for by the business question.\n"
   ]
  },
  {
   "cell_type": "code",
   "execution_count": 9,
   "metadata": {
    "editable": true
   },
   "outputs": [],
   "source": [
    "# Queries to answer question1, named place-holders were used in the insert query to prevent errors due to false order of arguments.\n",
    "\n",
    "create_query_1 = \"\"\"\n",
    "    CREATE TABLE IF NOT EXISTS sessions (\n",
    "        sessionId int, \n",
    "        itemInSession int, \n",
    "        artist text,\n",
    "        song text,\n",
    "        length float,\n",
    "        PRIMARY KEY (sessionId, itemInSession)\n",
    "    )\n",
    "\"\"\"\n",
    "insert_query_1 = \"\"\"\n",
    "    INSERT INTO sessions (sessionId, itemInSession, artist, song, length)\n",
    "    VALUES (%(session_id)s, %(item_in_session)s, %(artist)s, %(song)s, %(length)s)\n",
    "\"\"\"\n",
    "select_query_1 = \"\"\"\n",
    "    SELECT artist, song, length\n",
    "    FROM sessions\n",
    "    WHERE sessionId = 338\n",
    "    and itemInSession = 4\n",
    "\"\"\"\n",
    "drop_query_1 = \"\"\"DROP TABLE sessions\"\"\"\n"
   ]
  },
  {
   "cell_type": "code",
   "execution_count": 10,
   "metadata": {
    "editable": true
   },
   "outputs": [],
   "source": [
    "# Create table sessions to answer question1:\n",
    "result = execute_query(create_query_1)"
   ]
  },
  {
   "cell_type": "code",
   "execution_count": 11,
   "metadata": {
    "editable": true
   },
   "outputs": [],
   "source": [
    "# Fill table sessions. csv.DictReader and a dict params-datastructure were used to prevent errors due to false indices or false order of arguments.\n",
    "\n",
    "with open('event_datafile_new.csv', encoding = 'utf8') as f:\n",
    "    csvreader = csv.DictReader(f)\n",
    "    next(csvreader) # skip header\n",
    "    for line in csvreader:\n",
    "        params = {\n",
    "            \"session_id\": int(line['sessionId']),\n",
    "            \"item_in_session\": int(line['itemInSession']),\n",
    "            \"artist\": line['artist'],\n",
    "            \"song\": line['song'],\n",
    "            \"length\": float(line['length'])\n",
    "        }\n",
    "        \n",
    "        execute_query(insert_query_1, params)"
   ]
  },
  {
   "cell_type": "code",
   "execution_count": 12,
   "metadata": {
    "editable": true,
    "scrolled": true
   },
   "outputs": [
    {
     "name": "stdout",
     "output_type": "stream",
     "text": [
      "Row(artist='Faithless', song='Music Matters (Mark Knight Dub)', length=495.30731201171875)\n"
     ]
    }
   ],
   "source": [
    "# Query for table sessions\n",
    "for row in execute_query(select_query_1):\n",
    "    print(row)"
   ]
  },
  {
   "cell_type": "markdown",
   "metadata": {
    "editable": true
   },
   "source": [
    "# Question 2:\n",
    "### Give me only the following: name of artist, song (sorted by itemInSession) and user (first and last name) for userid = 10, sessionid = 182\n",
    "\n",
    "- The primary key of the table consists of the userId, sessionId and the itemInSession.\n",
    "- userId and sessionId are needed for filtering and form the compound partition key.\n",
    "- itemInSession is needed as a clustering key as the retrieved songs should be sorted by itemInSession.\n",
    "- artist, song, firstName and lastName were added to the table as the values are asked for by the business question.\n"
   ]
  },
  {
   "cell_type": "code",
   "execution_count": 13,
   "metadata": {
    "editable": true
   },
   "outputs": [],
   "source": [
    "# Queries to answer question2, named place-holders were used in the insert query to prevent errors due to false order of arguments.\n",
    "\n",
    "create_query_2 = \"\"\"\n",
    "    CREATE TABLE IF NOT EXISTS user_sessions (\n",
    "        userId int, \n",
    "        sessionId int, \n",
    "        itemInSession int,\n",
    "        artist text,\n",
    "        song text,\n",
    "        firstName text,\n",
    "        lastName text,\n",
    "        PRIMARY KEY ((userId, sessionId), itemInSession)\n",
    "    )\n",
    "\"\"\"\n",
    "insert_query_2 = \"\"\"\n",
    "    INSERT INTO user_sessions (userId, sessionId, itemInSession, artist, song, firstName, lastName)\n",
    "    VALUES (%(user_id)s, %(session_id)s, %(item_in_session)s, %(artist)s, %(song)s, %(first_name)s, %(last_name)s)\n",
    "\"\"\"\n",
    "select_query_2 = \"\"\"\n",
    "    SELECT artist, song, firstName, lastName\n",
    "    FROM user_sessions\n",
    "    WHERE userId = 10\n",
    "    and sessionId = 182\n",
    "\"\"\"\n",
    "drop_query_2 = \"\"\"DROP TABLE user_sessions\"\"\""
   ]
  },
  {
   "cell_type": "code",
   "execution_count": 14,
   "metadata": {
    "editable": true
   },
   "outputs": [],
   "source": [
    "# Create table user_sessions to answer question2:\n",
    "result = execute_query(create_query_2)"
   ]
  },
  {
   "cell_type": "code",
   "execution_count": 15,
   "metadata": {
    "editable": true
   },
   "outputs": [],
   "source": [
    "# Fill table user_sessions. csv.DictReader and a dict params-datastructure were used to prevent errors due to false indices or false order of arguments.\n",
    "\n",
    "with open('event_datafile_new.csv', encoding = 'utf8') as f:\n",
    "    csvreader = csv.DictReader(f)\n",
    "    next(csvreader) # skip header\n",
    "    for line in csvreader:\n",
    "        params = {\n",
    "            \"user_id\": int(line['userId']),\n",
    "            \"session_id\": int(line['sessionId']),\n",
    "            \"item_in_session\": int(line['itemInSession']),\n",
    "            \"artist\": line['artist'],\n",
    "            \"song\": line['song'],\n",
    "            \"first_name\": line['firstName'],\n",
    "            \"last_name\": line['lastName'],\n",
    "        }\n",
    "        \n",
    "        execute_query(insert_query_2, params)"
   ]
  },
  {
   "cell_type": "code",
   "execution_count": 16,
   "metadata": {
    "editable": true
   },
   "outputs": [
    {
     "name": "stdout",
     "output_type": "stream",
     "text": [
      "Row(artist='Down To The Bone', song=\"Keep On Keepin' On\", firstname='Sylvie', lastname='Cruz')\n",
      "Row(artist='Three Drives', song='Greece 2000', firstname='Sylvie', lastname='Cruz')\n",
      "Row(artist='Sebastien Tellier', song='Kilometer', firstname='Sylvie', lastname='Cruz')\n",
      "Row(artist='Lonnie Gordon', song='Catch You Baby (Steve Pitron & Max Sanna Radio Edit)', firstname='Sylvie', lastname='Cruz')\n"
     ]
    }
   ],
   "source": [
    "# Query for table user_sessions\n",
    "for row in execute_query(select_query_2):\n",
    "    print(row)"
   ]
  },
  {
   "cell_type": "markdown",
   "metadata": {
    "editable": true
   },
   "source": [
    "# Question 3:\n",
    "### Give me every user name (first and last) in my music app history who listened to the song 'All Hands Against His Own'\n",
    "\n",
    "- The partition key of the table consists of the song as it is needed for filtering.\n",
    "- In addition the userId is used as clustering key to achieve a unique primary key for each row.\n",
    "- firstName and lastName were added to the table as the values are asked for by the business question."
   ]
  },
  {
   "cell_type": "code",
   "execution_count": 17,
   "metadata": {
    "editable": true
   },
   "outputs": [],
   "source": [
    "# Queries to answer question3, named place-holders were used in the insert query to prevent errors due to false order of arguments.\n",
    "\n",
    "create_query_3 = \"\"\"\n",
    "    CREATE TABLE IF NOT EXISTS song_listeners (\n",
    "        song text,\n",
    "        userId int,\n",
    "        firstName text,\n",
    "        lastName text,\n",
    "        PRIMARY KEY (song, userId)\n",
    "    )\n",
    "\"\"\"\n",
    "insert_query_3 = \"\"\"\n",
    "    INSERT INTO song_listeners (song, userId, firstName, lastName)\n",
    "    VALUES (%(song)s, %(user_id)s, %(first_name)s, %(last_name)s)\n",
    "\"\"\"\n",
    "select_query_3 = \"\"\"\n",
    "    SELECT firstName, lastName\n",
    "    FROM song_listeners\n",
    "    WHERE song = 'All Hands Against His Own'\n",
    "\"\"\"\n",
    "drop_query_3 = \"\"\"DROP TABLE song_listeners\"\"\""
   ]
  },
  {
   "cell_type": "code",
   "execution_count": 18,
   "metadata": {
    "editable": true
   },
   "outputs": [],
   "source": [
    "# Create table user_sessions to answer question3:\n",
    "result = execute_query(create_query_3)"
   ]
  },
  {
   "cell_type": "code",
   "execution_count": 19,
   "metadata": {
    "editable": true
   },
   "outputs": [],
   "source": [
    "# Fill table user_sessions. csv.DictReader and a dict params-datastructure were used to prevent errors due to false indices or false order of arguments.\n",
    "\n",
    "with open('event_datafile_new.csv', encoding = 'utf8') as f:\n",
    "    csvreader = csv.DictReader(f)\n",
    "    next(csvreader) # skip header\n",
    "    for line in csvreader:\n",
    "        params = {\n",
    "            \"song\": line['song'],\n",
    "            \"user_id\": int(line['userId']),\n",
    "            \"first_name\": line['firstName'],\n",
    "            \"last_name\": line['lastName'],\n",
    "        }\n",
    "        \n",
    "        execute_query(insert_query_3, params)"
   ]
  },
  {
   "cell_type": "code",
   "execution_count": 20,
   "metadata": {
    "editable": true
   },
   "outputs": [
    {
     "name": "stdout",
     "output_type": "stream",
     "text": [
      "Row(firstname='Jacqueline', lastname='Lynch')\n",
      "Row(firstname='Tegan', lastname='Levine')\n",
      "Row(firstname='Sara', lastname='Johnson')\n"
     ]
    }
   ],
   "source": [
    "# Query for table user_sessions\n",
    "for row in execute_query(select_query_3):\n",
    "    print(row)"
   ]
  },
  {
   "cell_type": "markdown",
   "metadata": {
    "editable": true
   },
   "source": [
    "### Drop the tables before closing out the sessions"
   ]
  },
  {
   "cell_type": "code",
   "execution_count": 21,
   "metadata": {
    "editable": true
   },
   "outputs": [],
   "source": [
    "# Drops all the tables.\n",
    "result1 = execute_query(drop_query_1)\n",
    "result2 = execute_query(drop_query_2)\n",
    "result3 = execute_query(drop_query_3)"
   ]
  },
  {
   "cell_type": "markdown",
   "metadata": {
    "editable": true
   },
   "source": [
    "### Close the session and cluster connection¶"
   ]
  },
  {
   "cell_type": "code",
   "execution_count": 22,
   "metadata": {
    "editable": true
   },
   "outputs": [],
   "source": [
    "session.shutdown()\n",
    "cluster.shutdown()"
   ]
  }
 ],
 "metadata": {
  "kernelspec": {
   "display_name": "Python 3",
   "language": "python",
   "name": "python3"
  },
  "language_info": {
   "codemirror_mode": {
    "name": "ipython",
    "version": 3
   },
   "file_extension": ".py",
   "mimetype": "text/x-python",
   "name": "python",
   "nbconvert_exporter": "python",
   "pygments_lexer": "ipython3",
   "version": "3.6.3"
  }
 },
 "nbformat": 4,
 "nbformat_minor": 4
}